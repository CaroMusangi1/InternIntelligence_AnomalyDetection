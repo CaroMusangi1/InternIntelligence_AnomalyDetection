{
  "nbformat": 4,
  "nbformat_minor": 0,
  "metadata": {
    "colab": {
      "provenance": [],
      "authorship_tag": "ABX9TyN0w7mo8Dil9L7Z/JpcrhIi",
      "include_colab_link": true
    },
    "kernelspec": {
      "name": "python3",
      "display_name": "Python 3"
    },
    "language_info": {
      "name": "python"
    }
  },
  "cells": [
    {
      "cell_type": "markdown",
      "metadata": {
        "id": "view-in-github",
        "colab_type": "text"
      },
      "source": [
        "<a href=\"https://colab.research.google.com/github/CaroMusangi1/InternIntelligence_AnomalyDetection/blob/master/Task_3.ipynb\" target=\"_parent\"><img src=\"https://colab.research.google.com/assets/colab-badge.svg\" alt=\"Open In Colab\"/></a>"
      ]
    },
    {
      "cell_type": "code",
      "execution_count": 1,
      "metadata": {
        "id": "lFL_2FUsnA6D"
      },
      "outputs": [],
      "source": [
        "# 1. Import Libraries\n",
        "import pandas as pd\n",
        "import numpy as np\n",
        "import matplotlib.pyplot as plt\n",
        "import seaborn as sns\n",
        "from sklearn.ensemble import IsolationForest\n",
        "from sklearn.preprocessing import StandardScaler\n",
        "from sklearn.metrics import classification_report, confusion_matrix, f1_score, precision_score, recall_score\n",
        "from sklearn.model_selection import train_test_split"
      ]
    },
    {
      "cell_type": "code",
      "source": [
        "# 2. Load Dataset (Using Synthetic Anomaly Data from sklearn)\n",
        "from sklearn.datasets import make_classification\n",
        "\n",
        "X, y = make_classification(n_samples=1000, n_features=20,\n",
        "                           n_informative=2, n_redundant=10,\n",
        "                           n_clusters_per_class=1, weights=[0.99],\n",
        "                           flip_y=0, random_state=42)\n",
        "\n",
        "# Add anomalies manually for demonstration\n",
        "y[-50:] = 1  # Mark last 50 as anomalies artificially (label = 1)"
      ],
      "metadata": {
        "id": "pUPIGwGNnW8a"
      },
      "execution_count": 2,
      "outputs": []
    },
    {
      "cell_type": "code",
      "source": [
        "# 3. Preprocess Data\n",
        "scaler = StandardScaler()\n",
        "X_scaled = scaler.fit_transform(X)"
      ],
      "metadata": {
        "id": "NDYSfbi_ngoK"
      },
      "execution_count": 3,
      "outputs": []
    },
    {
      "cell_type": "code",
      "source": [
        "# 4. Train Isolation Forest\n",
        "model = IsolationForest(n_estimators=100, contamination=0.05, random_state=42)\n",
        "model.fit(X_scaled)\n",
        "\n",
        "# Predict anomalies (-1 for anomaly, 1 for normal)\n",
        "y_pred = model.predict(X_scaled)\n",
        "y_pred = np.where(y_pred == -1, 1, 0)  # Convert to match true labels (1 = anomaly)"
      ],
      "metadata": {
        "id": "V2iolBNCnt7z"
      },
      "execution_count": 4,
      "outputs": []
    },
    {
      "cell_type": "code",
      "source": [
        "# 5. Evaluation\n",
        "print(\"Confusion Matrix:\\n\", confusion_matrix(y, y_pred))\n",
        "print(\"\\nClassification Report:\\n\", classification_report(y, y_pred))\n",
        "print(\"F1 Score:\", f1_score(y, y_pred))\n",
        "print(\"Precision:\", precision_score(y, y_pred))\n",
        "print(\"Recall:\", recall_score(y, y_pred))"
      ],
      "metadata": {
        "colab": {
          "base_uri": "https://localhost:8080/"
        },
        "id": "qUxuxRW4nxb8",
        "outputId": "561ac963-6a46-4a7b-8a67-8df2973d05b9"
      },
      "execution_count": 5,
      "outputs": [
        {
          "output_type": "stream",
          "name": "stdout",
          "text": [
            "Confusion Matrix:\n",
            " [[902  39]\n",
            " [ 48  11]]\n",
            "\n",
            "Classification Report:\n",
            "               precision    recall  f1-score   support\n",
            "\n",
            "           0       0.95      0.96      0.95       941\n",
            "           1       0.22      0.19      0.20        59\n",
            "\n",
            "    accuracy                           0.91      1000\n",
            "   macro avg       0.58      0.57      0.58      1000\n",
            "weighted avg       0.91      0.91      0.91      1000\n",
            "\n",
            "F1 Score: 0.2018348623853211\n",
            "Precision: 0.22\n",
            "Recall: 0.1864406779661017\n"
          ]
        }
      ]
    },
    {
      "cell_type": "code",
      "source": [
        "# 6. Visualize\n",
        "sns.heatmap(confusion_matrix(y, y_pred), annot=True, fmt='d')\n",
        "plt.title('Confusion Matrix')\n",
        "plt.xlabel('Predicted')\n",
        "plt.ylabel('Actual')\n",
        "plt.show()"
      ],
      "metadata": {
        "colab": {
          "base_uri": "https://localhost:8080/",
          "height": 472
        },
        "id": "eeFyme_Tn6vf",
        "outputId": "4f7bf6f6-28c2-40f0-f749-a70f9449bc2b"
      },
      "execution_count": 6,
      "outputs": [
        {
          "output_type": "display_data",
          "data": {
            "text/plain": [
              "<Figure size 640x480 with 2 Axes>"
            ],
            "image/png": "[encoded data removed]"
          },
          "metadata": {}
        }
      ]
    },
    {
      "cell_type": "code",
      "source": [
        "# 7. Deployment Function (Simulate for new incoming data)\n",
        "def detect_anomalies(new_data):\n",
        "    new_data_scaled = scaler.transform(new_data)\n",
        "    preds = model.predict(new_data_scaled)\n",
        "    return np.where(preds == -1, \"Anomaly\", \"Normal\")"
      ],
      "metadata": {
        "id": "KvKvoJmJoM2Q"
      },
      "execution_count": 7,
      "outputs": []
    },
    {
      "cell_type": "code",
      "source": [
        "# Test with a sample\n",
        "sample = X[:5]\n",
        "print(\"\\nSample Anomaly Detection Results:\")\n",
        "print(detect_anomalies(sample))"
      ],
      "metadata": {
        "colab": {
          "base_uri": "https://localhost:8080/"
        },
        "id": "-ybz7fjnoRhG",
        "outputId": "4aa1d30a-a058-4320-d80e-d1f149cd4a89"
      },
      "execution_count": 8,
      "outputs": [
        {
          "output_type": "stream",
          "name": "stdout",
          "text": [
            "\n",
            "Sample Anomaly Detection Results:\n",
            "['Normal' 'Anomaly' 'Normal' 'Normal' 'Normal']\n"
          ]
        }
      ]
    }
  ]
}